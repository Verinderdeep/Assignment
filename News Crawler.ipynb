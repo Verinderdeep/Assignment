{
 "cells": [
  {
   "cell_type": "code",
   "execution_count": 1,
   "metadata": {},
   "outputs": [],
   "source": [
    "from bs4 import BeautifulSoup as bs\n",
    "import requests as rq"
   ]
  },
  {
   "cell_type": "code",
   "execution_count": 2,
   "metadata": {},
   "outputs": [],
   "source": [
    "r=rq.get('https://www.indiatoday.in/')"
   ]
  },
  {
   "cell_type": "code",
   "execution_count": 3,
   "metadata": {},
   "outputs": [],
   "source": [
    "s= bs(r.text,'html.parser')"
   ]
  },
  {
   "cell_type": "code",
   "execution_count": 4,
   "metadata": {},
   "outputs": [],
   "source": [
    "topnews=s.find('ul',{'class':'itg-listing'},)"
   ]
  },
  {
   "cell_type": "code",
   "execution_count": 5,
   "metadata": {},
   "outputs": [],
   "source": [
    "news=topnews.find_all('a')"
   ]
  },
  {
   "cell_type": "code",
   "execution_count": 6,
   "metadata": {},
   "outputs": [
    {
     "name": "stdout",
     "output_type": "stream",
     "text": [
      "Top Stories:\n",
      "Learning to cook? Cutting own hair? Good. Eateries, barber shops to remain shut\n",
      "\t\n",
      "Coronavirus outbreak: What AC temperature should you maintain?\n",
      "\t\n",
      "ITL PUBG Mobile Invitational Day 3 Live: TSM ENTITY dominate Match 1 in Erangel\n",
      "\t\n",
      "Brett Lee feels Virat Kohli can break Sachin Tendulkar's 100 centuries record\n",
      "\t\n",
      "What's open? What isn't? See MHA clarification on malls, e-commerce, liquor\n",
      "\t\n",
      "Top business minds from around the country commit INR 300 Cr to build a unique business school\n",
      "\t\n",
      "How this university is keeping its students ahead in the times of COVID-19\n",
      "\t\n",
      "e-Agenda Aaj Tak: Growth of Covid-19 cases in Delhi declined, says Satyendar Jain \n",
      "\t\n",
      "e-Agenda AajTak: Not just stay at home but also do yoga at home, says Ramdev\n",
      "\t\n",
      "Govt allows some shops to reopen: What will open, what will remain closed\n",
      "\t\n",
      "Your Weekend Planner: Hemsworth's Extraction, Aloo is Kitchen King\n",
      "\t\n",
      "Trump claims comments on injecting people with disinfectant were sarcastic\n",
      "\t\n",
      "Hyderabad doctor harassed by brother's neighbours, case filed\n",
      "\t\n",
      "Coronavirus: Cases rise to over 24,500; 775 dead | 10 points\n",
      "\t\n",
      "Coronavirus: Why Delhi pins its hopes on plasma therapy\n",
      "\t\n",
      "Covid Toes among kids: New symptom of novel coronavirus infection\n",
      "\t\n"
     ]
    }
   ],
   "source": [
    "print(\"Top Stories:\")\n",
    "for i in news:\n",
    "    print(i.text)\n",
    "    print('\\t')"
   ]
  },
  {
   "cell_type": "code",
   "execution_count": null,
   "metadata": {},
   "outputs": [],
   "source": []
  }
 ],
 "metadata": {
  "kernelspec": {
   "display_name": "Python 3",
   "language": "python",
   "name": "python3"
  },
  "language_info": {
   "codemirror_mode": {
    "name": "ipython",
    "version": 3
   },
   "file_extension": ".py",
   "mimetype": "text/x-python",
   "name": "python",
   "nbconvert_exporter": "python",
   "pygments_lexer": "ipython3",
   "version": "3.7.4"
  }
 },
 "nbformat": 4,
 "nbformat_minor": 2
}
